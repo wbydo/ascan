{
 "cells": [
  {
   "cell_type": "markdown",
   "metadata": {},
   "source": [
    "2018/06/7\n",
    "櫻岡響\n",
    "\n",
    "# ただの1-gramの作成"
   ]
  },
  {
   "cell_type": "markdown",
   "metadata": {},
   "source": [
    "# 準備"
   ]
  },
  {
   "cell_type": "code",
   "execution_count": 12,
   "metadata": {},
   "outputs": [],
   "source": [
    "from functools import reduce\n",
    "from sklearn.model_selection import train_test_split\n",
    "from collections import Counter\n",
    "\n",
    "from  sqlalchemy.sql.expression import func\n",
    "\n",
    "from anakin.lang_model.lang_model import LangModel\n",
    "\n",
    "from anakin.lang_model_file_factory import LangModelFileFactory\n",
    "from anakin.db.session import database, engine_and_session\n",
    "from anakin.db.model import Base, Sentence, File, LangModelFile\n",
    "\n",
    "from anakin.util.word import Word\n",
    "from anakin.util.estimate import estimate\n",
    "from anakin.util.key_to_word import KeyToWord\n",
    "from anakin.util.dp_matching import DPMatching\n",
    "\n",
    "from env import LOCAL\n",
    "\n",
    "import pandas as pd\n",
    "import numpy as np\n",
    "from matplotlib import pyplot\n",
    "import seaborn as sns\n",
    "\n",
    "import pickle"
   ]
  },
  {
   "cell_type": "code",
   "execution_count": 2,
   "metadata": {},
   "outputs": [],
   "source": [
    "KATAKANA = [\n",
    "    'アイウエオ',\n",
    "    'カキクケコ',\n",
    "    'サシスセソ',\n",
    "    'タチツテト',\n",
    "    'ナニヌネノ',\n",
    "    'ハヒフヘホ',\n",
    "    'マミムメモ',\n",
    "    'ヤユヨ',\n",
    "    'ラリルレロ',\n",
    "    'ワヲンー'\n",
    "]\n",
    "\n",
    "_org = 'ヴァィゥェォガギグゲゴザジズゼゾッダヂヅデドバビブベボパピプペポャュョ'\n",
    "_cov = 'ウアイウエオカキクケコサシスセソツタチツテトハヒフヘホハヒフヘホヤユヨ'\n",
    "\n",
    "CONV_TABLE = str.maketrans(_org, _cov)"
   ]
  },
  {
   "cell_type": "code",
   "execution_count": 3,
   "metadata": {
    "scrolled": false
   },
   "outputs": [],
   "source": [
    "db = database(**LOCAL)\n",
    "ENGINE, Session = engine_and_session(db, echo=False)\n",
    "Base.prepare(ENGINE, reflect=True)"
   ]
  },
  {
   "cell_type": "code",
   "execution_count": 4,
   "metadata": {},
   "outputs": [],
   "source": [
    "def translate_only_katakana(word_contents):\n",
    "    return \\\n",
    "        ''.join(\n",
    "            [w.yomi for w in Word.from_sentence(word_contents) if not w.yomi in Word.MARK.values()]\n",
    "        )\\\n",
    "        .translate(CONV_TABLE)"
   ]
  },
  {
   "cell_type": "markdown",
   "metadata": {
    "scrolled": true
   },
   "source": [
    "このコードでランダム抽出出来るはずだが凄く遅いので断念\n",
    "```python\n",
    "%%time\n",
    "#重複無しでランダム抽出出来ているかは自信がないがまあ良いだろう\n",
    "seed = 1234\n",
    "\n",
    "c = Counter()\n",
    "\n",
    "session = Session()\n",
    "query = session.query(Sentence)\\\n",
    "    .order_by(func.rand(seed))\\\n",
    "    .limit(5)\n",
    "\n",
    "for s in query:\n",
    "    only_kana = translate_only_katakana(s.contents)\n",
    "    c += Counter(only_kana)\n",
    "print(c)\n",
    "```"
   ]
  },
  {
   "cell_type": "code",
   "execution_count": 19,
   "metadata": {
    "scrolled": true
   },
   "outputs": [
    {
     "name": "stdout",
     "output_type": "stream",
     "text": [
      "Counter({'シ': 186710, 'テ': 182969, 'イ': 182732, 'カ': 165422, 'タ': 159942, 'ン': 132822, 'ウ': 119407, 'ト': 117016, 'ノ': 101173, 'ツ': 99058, 'ク': 95592, 'マ': 90962, 'ス': 89007, 'ヨ': 85330, 'ハ': 84515, 'ニ': 73467, 'キ': 71527, 'モ': 63068, 'コ': 58763, 'ナ': 56960, 'リ': 56601, 'ル': 54924, 'オ': 49597, 'チ': 41428, 'ヤ': 40384, 'ア': 36883, 'サ': 36414, 'ラ': 35756, 'セ': 35595, 'レ': 32002, 'ホ': 31329, 'ヒ': 29810, 'ヘ': 27954, 'フ': 27699, 'ー': 26869, 'ユ': 26155, 'エ': 25761, 'ケ': 22405, 'ロ': 21726, 'ヲ': 21565, 'ソ': 20074, 'ワ': 18814, 'メ': 14670, 'ミ': 14116, 'ネ': 13972, 'ム': 6815, 'ヌ': 509})\n",
      "CPU times: user 10.2 s, sys: 257 ms, total: 10.5 s\n",
      "Wall time: 10.6 s\n"
     ]
    }
   ],
   "source": [
    "%%time\n",
    "seed = 1234\n",
    "\n",
    "c = Counter()\n",
    "\n",
    "session = Session()\n",
    "query = session.query(Sentence).limit(100000)\n",
    "\n",
    "for s in query:\n",
    "    only_kana = translate_only_katakana(s.contents)\n",
    "    c += Counter(only_kana)\n",
    "print(c)"
   ]
  },
  {
   "cell_type": "code",
   "execution_count": 26,
   "metadata": {},
   "outputs": [
    {
     "name": "stdout",
     "output_type": "stream",
     "text": [
      "頻度ゼロなし\n"
     ]
    }
   ],
   "source": [
    "#ゼロ頻度問題のチェック\n",
    "check = set(''.join(KATAKANA)) - set(c)\n",
    "if len(check) == 0:\n",
    "    print('頻度ゼロなし')\n",
    "else:\n",
    "    print('頻度ゼロあり')"
   ]
  },
  {
   "cell_type": "code",
   "execution_count": 28,
   "metadata": {},
   "outputs": [],
   "source": [
    "with open('count_100000sentence.pickle', 'wb') as f:\n",
    "    pickle.dump(c, f)"
   ]
  }
 ],
 "metadata": {
  "kernelspec": {
   "display_name": "Python 3",
   "language": "python",
   "name": "python3"
  },
  "language_info": {
   "codemirror_mode": {
    "name": "ipython",
    "version": 3
   },
   "file_extension": ".py",
   "mimetype": "text/x-python",
   "name": "python",
   "nbconvert_exporter": "python",
   "pygments_lexer": "ipython3",
   "version": "3.6.2"
  }
 },
 "nbformat": 4,
 "nbformat_minor": 2
}
