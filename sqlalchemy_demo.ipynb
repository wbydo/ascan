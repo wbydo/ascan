{
 "cells": [
  {
   "cell_type": "markdown",
   "metadata": {},
   "source": [
    "2018/05/31\n",
    "大学院ゼミ　櫻岡響\n",
    "\n",
    "# SQLAlchemy使用デモ"
   ]
  },
  {
   "cell_type": "markdown",
   "metadata": {},
   "source": [
    "# 準備"
   ]
  },
  {
   "cell_type": "code",
   "execution_count": 22,
   "metadata": {
    "collapsed": true
   },
   "outputs": [],
   "source": [
    "from functools import reduce\n",
    "from sklearn.model_selection import train_test_split\n",
    "\n",
    "from anakin.lang_model.lang_model import LangModel\n",
    "\n",
    "from anakin.lang_model_file_factory import LangModelFileFactory\n",
    "from anakin.db.session import database, engine_and_session\n",
    "from anakin.db.model import Base, Sentence, File, LangModelFile\n",
    "\n",
    "from anakin.util.word import Word\n",
    "from anakin.util.estimate import estimate\n",
    "from anakin.util.key_to_word import KeyToWord\n",
    "from anakin.util.dp_matching import DPMatching\n",
    "\n",
    "from env import LOCAL\n",
    "\n",
    "import pandas as pd\n",
    "import numpy as np\n",
    "from matplotlib import pyplot\n",
    "import seaborn as sns"
   ]
  },
  {
   "cell_type": "code",
   "execution_count": 23,
   "metadata": {},
   "outputs": [
    {
     "name": "stderr",
     "output_type": "stream",
     "text": [
      "/Users/hbk/.anyenv/envs/pyenv/versions/miniconda3-latest/lib/python3.6/site-packages/sqlalchemy/ext/declarative/clsregistry.py:120: SAWarning: This declarative base already contains a class with the same class name and module name as sqlalchemy.ext.automap.datasets, and will be replaced in the string-lookup table.\n",
      "  item.__name__\n",
      "/Users/hbk/.anyenv/envs/pyenv/versions/miniconda3-latest/lib/python3.6/site-packages/sqlalchemy/ext/declarative/clsregistry.py:120: SAWarning: This declarative base already contains a class with the same class name and module name as sqlalchemy.ext.automap.migrate_version, and will be replaced in the string-lookup table.\n",
      "  item.__name__\n"
     ]
    }
   ],
   "source": [
    "db = database(**LOCAL)\n",
    "ENGINE, Session = engine_and_session(db, echo=False)\n",
    "Base.prepare(ENGINE, reflect=True)"
   ]
  },
  {
   "cell_type": "markdown",
   "metadata": {},
   "source": [
    "# 過去に生成した言語モデルファイルインスタンスを呼び出し"
   ]
  },
  {
   "cell_type": "code",
   "execution_count": 24,
   "metadata": {
    "scrolled": true
   },
   "outputs": [
    {
     "data": {
      "text/plain": [
       "<anakin.db.model.LangModelFile at 0x1b525a5828>"
      ]
     },
     "execution_count": 24,
     "metadata": {},
     "output_type": "execute_result"
    }
   ],
   "source": [
    "session = Session()\n",
    "lm = session.query(LangModelFile).first()\n",
    "session.close()\n",
    "\n",
    "lm"
   ]
  },
  {
   "cell_type": "markdown",
   "metadata": {},
   "source": [
    "# 冒頭30行を印字"
   ]
  },
  {
   "cell_type": "code",
   "execution_count": 25,
   "metadata": {},
   "outputs": [
    {
     "name": "stdout",
     "output_type": "stream",
     "text": [
      "\\data\\\n",
      "ngram 1=76934\n",
      "ngram 2=1550924\n",
      "ngram 3=1878406\n",
      "\n",
      "\\1-grams:\n",
      "-1.211105\t</s>\n",
      "-2.441973\t<eng>\t-1.069783\n",
      "-1.775336\t<num>\t-1.903961\n",
      "-99\t<s>\t-1.082738\n",
      "-3.959524\t<unk>\t-0.4641609\n",
      "-5.470937\tTシャツ/ティーシャツ\t-0.5569668\n",
      "-7.146104\t〆切/シメキリ\t-0.1884464\n",
      "-7.322195\t〆張鶴/シメハリヅル\t-0.1744659\n",
      "-5.765893\t〇/レイ\t-0.6900389\n",
      "-5.377712\tぁ/ァ\t-0.7710243\n",
      "-6.720135\tぁぁ/ァァ\t-0.4356282\n",
      "-7.146104\tぁぁぁ/ァァァ\t-0.581517\n",
      "-7.623225\tぁぁぁん/ァァァン\t-0.1614238\n",
      "-7.623225\tぁぃさつしてくれてとっても/ァィサツシテクレテトッテモ\t-0.188848\n",
      "-7.623225\tぁい/ァイ\t-0.1881081\n",
      "-7.623225\tぁいあ/ァイア\t-0.18832\n",
      "-7.623225\tぁいいかっ/ァイイカッ\t-0.1614238\n",
      "-7.623225\tぁいいかってかんじでした/ァイイカッテカンジデシタ\t-0.1614238\n",
      "-7.623225\tぁいいのかもしれませんが/ァイイノカモシレマセンガ\t-0.1889699\n",
      "-7.623225\tぁお/ァオ\t-0.1888814\n",
      "-7.623225\tぁきました/ァキマシタ\t-0.1614238\n",
      "-7.623225\tぁこういうこともあるさなのですが/ァコウイウコトモアルサナノデスガ\t-0.1889475\n",
      "-7.623225\tぁこんなものなのかなと/ァコンナモノナノカナト\t-0.1614238\n",
      "-7.623225\tぁこんなもんかなって/ァコンナモンカナッテ\t-0.1881081\n"
     ]
    }
   ],
   "source": [
    "for idx, line in enumerate(lm.contents.decode().split('\\n')):\n",
    "    if idx == 30:\n",
    "        break\n",
    "    print(line)"
   ]
  },
  {
   "cell_type": "markdown",
   "metadata": {},
   "source": [
    "**言語モデルに使用した文のうち冒頭30文をSentenceクラスのインスタンスとして取得**"
   ]
  },
  {
   "cell_type": "code",
   "execution_count": 26,
   "metadata": {},
   "outputs": [
    {
     "data": {
      "text/plain": [
       "[<Sentence(id=1, contents='この/コノ ホテル/ホテル で/デ この/コノ 値段/ネダン は/ハ 安い/ヤスイ'),\n",
       " <Sentence(id=2, contents='駅/エキ から/カラ 出/デ て/テ すぐ/スグ の/ノ 所/トコロ に/ニ あり/アリ まし/マシ た/タ'),\n",
       " <Sentence(id=3, contents='雨/アメ でも/デモ 安心/アンシン です/デス ね/ネ'),\n",
       " <Sentence(id=4, contents='乗車/ジョウシャ 券/ケン が/ガ 有効/ユウコウ 利用/リヨウ でき/デキ まし/マシ た/タ'),\n",
       " <Sentence(id=5, contents='バス/バス ルーム/ルーム が/ガ 広い/ヒロイ の/ノ が/ガ よかっ/ヨカッ た/タ です/デス'),\n",
       " <Sentence(id=6, contents='ラウンジ/ラウンジ で/デ コーヒー/コーヒー を/ヲ 頼ん/タノン だら/ダラ プチケーキ/プチケーキ が/ガ 付い/ツイ て/テ き/キ た/タ'),\n",
       " <Sentence(id=7, contents='お/オ 土産/ミヤゲ を/ヲ 買う/カウ とき/トキ に/ニ 便利/ベンリ です/デス ね/ネ'),\n",
       " <Sentence(id=8, contents='ウォシュレット/ウォシュレット 付/ヅケ'),\n",
       " <Sentence(id=9, contents='食事/ショクジ が/ガ おいしかっ/オイシカッ た/タ です/デス'),\n",
       " <Sentence(id=10, contents='<eng> 地下鉄/チカテツ とも/トモ 駅/エキ に/ニ 近く/チカク 時計/トケイ 台/ダイ も/モ そば/ソバ'),\n",
       " <Sentence(id=11, contents='ただし/タダシ すすきの/ススキノ に/ニ は/ハ 遠い/トオイ'),\n",
       " <Sentence(id=12, contents='歩い/アルイ て/テ <num> 分/フン ほど/ホド で/デ コンビニ/コンビニ 酒/シュ も/モ あり/アリ が/ガ ある/アル の/ノ は/ハ 嬉しい/ウレシイ'),\n",
       " <Sentence(id=13, contents='シャンプー/シャンプー ひ/ヒ げ/ゲ そり/ソリ 歯ブラシ/ハブラシ も/モ 部屋/ヘヤ に/ニ あり/アリ まし/マシ た/タ'),\n",
       " <Sentence(id=14, contents='無料/ムリョウ バス/バス は/ハ <eng> 大阪/オオサカ 駅/エキ 北口/キタグチ か/カ な/ナ'),\n",
       " <Sentence(id=15, contents='から/カラ <num> 時間/ジカン に/ニ <num> 便/ビン 出/デ て/テ ます/マス <num> <num> <num> <num>'),\n",
       " <Sentence(id=16, contents='少し/スコシ 歩か/アルカ ない/ナイ と/ト いけ/イケ ない/ナイ です/デス けど/ケド マクドナルド/マクドナルド ミスター/ミスター ドーナツ/ドーナツ 吉野屋/ヨシノヤ 牛/ウシ 丼/ドンブリ コンビニ/コンビニ <num> 件/ケン が/ガ あり/アリ ます/マス'),\n",
       " <Sentence(id=17, contents='ホテル/ホテル 内/ナイ の/ノ 飲食/インショク 店/テン が/ガ 充実/ジュウジツ し/シ て/テ おり/オリ 特に/トクニ <num> <eng> の/ノ バー/バー は/ハ 重厚/ジュウコウ な/ナ インテリア/インテリア で/デ 雰囲気/フンイキ が/ガ 良く/ヨク 最高/サイコウ'),\n",
       " <Sentence(id=18, contents='二条城/ニジョウジョウ の/ノ 真ん前/マンマエ で/デ 観光/カンコウ の/ノ ベース/ベース として/トシテ は/ハ 最高/サイコウ の/ノ ロケーション/ロケーション です/デス'),\n",
       " <Sentence(id=19, contents='ロビー/ロビー が/ガ 新しく/アタラシク なっ/ナッ て/テ い/イ まし/マシ た/タ'),\n",
       " <Sentence(id=20, contents='一番/イチバン 安い/ヤスイ 部屋/ヘヤ は/ハ タオル/タオル が/ガ つい/ツイ て/テ なかっ/ナカッ た/タ'),\n",
       " <Sentence(id=21, contents='要/ヨウ 持参/ジサン'),\n",
       " <Sentence(id=22, contents='最上階/サイジョウカイ の/ノ バー/バー は/ハ 札幌/サッポロ の/ノ 街/マチ を/ヲ 一望/イチボウ 出来/デキ 最高/サイコウ です/デス'),\n",
       " <Sentence(id=23, contents='一度/イチド 訪ねる/タズネル こと/コト を/ヲ 勧める/ススメル'),\n",
       " <Sentence(id=24, contents='妻/ツマ と/ト 子供/コドモ と/ト <num> 人/ニン で/デ 利用/リヨウ し/シ まし/マシ た/タ'),\n",
       " <Sentence(id=25, contents='ツイン/ツイン ルーム/ルーム を/ヲ 予約/ヨヤク し/シ て/テ い/イ まし/マシ た/タ が/ガ 子供/コドモ が/ガ いる/イル という/トイウ こと/コト で/デ 同/ドウ 料金/リョウキン で/デ <num> ルーム/ルーム <num> ベッド/ベッド の/ノ ロイヤル/ロイヤル ルーム/ルーム を/ヲ サービス/サービス で/デ 利用/リヨウ さ/サ せ/セ て/テ いただき/イタダキ まし/マシ た/タ'),\n",
       " <Sentence(id=26, contents='東京/トウキョウ から/カラ 少し/スコシ 遠い/トオイ です/デス が/ガ 料金/リョウキン は/ハ 格安/カクヤス です/デス し/シ 感謝/カンシャ です/デス'),\n",
       " <Sentence(id=27, contents='朝食/チョウショク は/ハ フロント/フロント で/デ 朝食/チョウショク 券/ケン を/ヲ 購入/コウニュウ し/シ ない/ナイ と/ト 食べ/タベ られ/ラレ ませ/マセ ん/ン'),\n",
       " <Sentence(id=28, contents='一番/イチバン 高い/タカイ 部屋/ヘヤ に/ニ は/ハ モジュラージャック/モジュラージャック が/ガ 別/ベツ に/ニ 付い/ツイ て/テ いる/イル ので/ノデ'),\n",
       " <Sentence(id=29, contents='簡単/カンタン に/ニ パソコン/パソコン 通信/ツウシン が/ガ でき/デキ ます/マス'),\n",
       " <Sentence(id=30, contents='中間/チュウカン の/ノ 値段/ネダン の/ノ 部屋/ヘヤ に/ニ も/モ 有っ/アッ た/タ よう/ヨウ な/ナ 気/キ が/ガ し/シ ます/マス が/ガ 定か/サダカ で/デ は/ハ あり/アリ ませ/マセ ん/ン')]"
      ]
     },
     "execution_count": 26,
     "metadata": {},
     "output_type": "execute_result"
    }
   ],
   "source": [
    "session = Session()\n",
    "lm = session.query(LangModelFile).first()\n",
    "sentences = lm.sentences[:30]\n",
    "session.close()\n",
    "\n",
    "sentences"
   ]
  },
  {
   "cell_type": "code",
   "execution_count": 27,
   "metadata": {},
   "outputs": [
    {
     "data": {
      "text/plain": [
       "<Sentence(id=6, contents='ラウンジ/ラウンジ で/デ コーヒー/コーヒー を/ヲ 頼ん/タノン だら/ダラ プチケーキ/プチケーキ が/ガ 付い/ツイ て/テ き/キ た/タ')"
      ]
     },
     "execution_count": 27,
     "metadata": {},
     "output_type": "execute_result"
    }
   ],
   "source": [
    "sentences[5]"
   ]
  }
 ],
 "metadata": {
  "kernelspec": {
   "display_name": "Python 3",
   "language": "python",
   "name": "python3"
  },
  "language_info": {
   "codemirror_mode": {
    "name": "ipython",
    "version": 3
   },
   "file_extension": ".py",
   "mimetype": "text/x-python",
   "name": "python",
   "nbconvert_exporter": "python",
   "pygments_lexer": "ipython3",
   "version": "3.6.1"
  }
 },
 "nbformat": 4,
 "nbformat_minor": 2
}
